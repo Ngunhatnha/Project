{
 "cells": [
  {
   "cell_type": "code",
   "execution_count": 1,
   "id": "bd538708",
   "metadata": {},
   "outputs": [],
   "source": [
    "import cv2\n",
    "import numpy as np \n",
    "import os\n",
    "from matplotlib import pyplot as plt\n",
    "import time\n",
    "import mediapipe as mp\n",
    "import matplotlib.image as image\n",
    "from PIL import Image, ImageOps\n",
    "from numpy import asarray\n",
    "import threading"
   ]
  },
  {
   "cell_type": "code",
   "execution_count": 2,
   "id": "28b3c9b0",
   "metadata": {},
   "outputs": [],
   "source": [
    "mp_holistic = mp.solutions.holistic #Holistic model\n",
    "mp_drawing = mp.solutions.drawing_utils #Drawing utilities"
   ]
  },
  {
   "cell_type": "code",
   "execution_count": 3,
   "id": "05b28368",
   "metadata": {},
   "outputs": [],
   "source": [
    "def mediapipe_detection(image, model):\n",
    "    image = cv2.cvtColor(image, cv2.COLOR_BGR2RGB)#Color conversion BGR 2 RGB\n",
    "    image.flags.writeable = False #Image is unwriteable\n",
    "    results = model.process(image)#Make prediction\n",
    "    image.flags.writeable = True#Image is now writeable\n",
    "    image = cv2.cvtColor(image, cv2.COLOR_RGB2BGR)#color conversion RGB 2 BGR\n",
    "    return image, results"
   ]
  },
  {
   "cell_type": "code",
   "execution_count": 4,
   "id": "4dc0aae8",
   "metadata": {},
   "outputs": [],
   "source": [
    "def draw_landmarks(image, results):\n",
    "    mp_drawing.draw_landmarks(image, results.face_landmarks, mp_holistic.FACEMESH_CONTOURS)#Draw face connections\n",
    "    mp_drawing.draw_landmarks(image, results.pose_landmarks, mp_holistic.POSE_CONNECTIONS)#Draw pose connections\n",
    "    mp_drawing.draw_landmarks(image, results.left_hand_landmarks, mp_holistic.HAND_CONNECTIONS)#Draw hand connections\n",
    "    mp_drawing.draw_landmarks(image, results.right_hand_landmarks, mp_holistic.HAND_CONNECTIONS)#Draw hand connections"
   ]
  },
  {
   "cell_type": "code",
   "execution_count": 5,
   "id": "7646ffd8",
   "metadata": {},
   "outputs": [],
   "source": [
    "def draw_styled_landmarks(image, results):\n",
    "    #Draw face connections\n",
    "    mp_drawing.draw_landmarks(image, results.face_landmarks, mp_holistic.FACEMESH_CONTOURS,\n",
    "                             mp_drawing.DrawingSpec(color=(80, 110, 10), thickness = 1, circle_radius =1),\n",
    "                             mp_drawing.DrawingSpec(color=(80, 256, 121), thickness = 1, circle_radius =1)\n",
    "                             )\n",
    "    #Draw pose connections\n",
    "    mp_drawing.draw_landmarks(image, results.pose_landmarks, mp_holistic.POSE_CONNECTIONS,\n",
    "                             mp_drawing.DrawingSpec(color=(80, 22, 10), thickness = 2, circle_radius =4),\n",
    "                             mp_drawing.DrawingSpec(color=(80, 44, 121), thickness = 2, circle_radius =2)\n",
    "                             )\n",
    "    #Draw hand connections\n",
    "    mp_drawing.draw_landmarks(image, results.left_hand_landmarks, mp_holistic.HAND_CONNECTIONS,\n",
    "                             mp_drawing.DrawingSpec(color=(121, 22, 76), thickness = 2, circle_radius =4),\n",
    "                             mp_drawing.DrawingSpec(color=(121, 44, 250), thickness = 2, circle_radius =2)\n",
    "                             )\n",
    "    #Draw hand connections\n",
    "    mp_drawing.draw_landmarks(image, results.right_hand_landmarks, mp_holistic.HAND_CONNECTIONS,\n",
    "                             mp_drawing.DrawingSpec(color=(245, 117, 66), thickness = 2, circle_radius =4),\n",
    "                             mp_drawing.DrawingSpec(color=(245, 66, 230), thickness = 2, circle_radius =2)\n",
    "                             )"
   ]
  },
  {
   "cell_type": "code",
   "execution_count": 6,
   "id": "f24aee11",
   "metadata": {},
   "outputs": [],
   "source": [
    "def extract_keypoints(results):\n",
    "    face = np.array([[res.x, res.y, res.z] for res in results.face_landmarks.landmark]).flatten() if \\\n",
    "        results.face_landmarks else np.zeros(468*3)\n",
    "    pose = np.array([[res.x, res.y, res.z, res.visibility] for res in results.pose_landmarks.landmark]).flatten() if \\\n",
    "        results.pose_landmarks else np.zeros(33*4)\n",
    "    lh = np.array([[res.x, res.y, res.z] for res in results.left_hand_landmarks.landmark]).flatten() if \\\n",
    "        results.left_hand_landmarks else np.zeros(21*3)\n",
    "    rh = np.array([[res.x, res.y, res.z] for res in results.right_hand_landmarks.landmark]).flatten() if \\\n",
    "        results.right_hand_landmarks else np.zeros(21*3)\n",
    "    return np.concatenate([pose, face, lh, rh])"
   ]
  },
  {
   "cell_type": "code",
   "execution_count": 95,
   "id": "dc49a4a7",
   "metadata": {},
   "outputs": [],
   "source": [
    "results_test = extract_keypoints(results)"
   ]
  },
  {
   "cell_type": "code",
   "execution_count": 96,
   "id": "fb5dccf7",
   "metadata": {},
   "outputs": [
    {
     "data": {
      "text/plain": [
       "(1662,)"
      ]
     },
     "execution_count": 96,
     "metadata": {},
     "output_type": "execute_result"
    }
   ],
   "source": [
    "results_test.shape"
   ]
  },
  {
   "cell_type": "markdown",
   "id": "2ef21e73",
   "metadata": {},
   "source": [
    "# setup folder for collection"
   ]
  },
  {
   "cell_type": "code",
   "execution_count": 7,
   "id": "377995c6",
   "metadata": {},
   "outputs": [],
   "source": [
    "# Path for exported data, numpy arrays\n",
    "DATA_PATH = os.path.join('MP_Data_60FPS')\n",
    "\n",
    "# Actions that we try to detect# n_inputs = 30, input = 30 frames\n",
    "actions = np.array(['Walk_', 'Wait_', 'Hello_L','Hello_R','Name_','No_','Sorry_R','Thanks_L',\n",
    "                    'Fire_','Give up_','House_','Ready_','Drink_','Sleep_','Where_'])\n",
    "\n",
    "# Thirty videos worth of data\n",
    "no_sequences = 60\n",
    "\n",
    "# Videos are going to be 30 frames in length\n",
    "sequence_length = 30\n",
    "\n",
    "# Folder start\n",
    "start_folder = 30"
   ]
  },
  {
   "cell_type": "markdown",
   "id": "b9afa3b6",
   "metadata": {},
   "source": [
    "# 6. Preprocess Data and Create Labels and Features"
   ]
  },
  {
   "cell_type": "code",
   "execution_count": 8,
   "id": "2e396f34",
   "metadata": {},
   "outputs": [],
   "source": [
    "from sklearn.model_selection import train_test_split\n",
    "from tensorflow.keras.utils import to_categorical"
   ]
  },
  {
   "cell_type": "code",
   "execution_count": 9,
   "id": "36ad9edc",
   "metadata": {},
   "outputs": [
    {
     "data": {
      "text/plain": [
       "'MP_Data_60FPS'"
      ]
     },
     "execution_count": 9,
     "metadata": {},
     "output_type": "execute_result"
    }
   ],
   "source": [
    "DATA_PATH"
   ]
  },
  {
   "cell_type": "code",
   "execution_count": 10,
   "id": "729c577d",
   "metadata": {},
   "outputs": [],
   "source": [
    "label_map = {label:num for num, label in enumerate(actions)}"
   ]
  },
  {
   "cell_type": "code",
   "execution_count": 11,
   "id": "ab6c473a",
   "metadata": {},
   "outputs": [
    {
     "data": {
      "text/plain": [
       "{'Walk_': 0,\n",
       " 'Wait_': 1,\n",
       " 'Hello_L': 2,\n",
       " 'Hello_R': 3,\n",
       " 'Name_': 4,\n",
       " 'No_': 5,\n",
       " 'Sorry_R': 6,\n",
       " 'Thanks_L': 7,\n",
       " 'Fire_': 8,\n",
       " 'Give up_': 9,\n",
       " 'House_': 10,\n",
       " 'Ready_': 11,\n",
       " 'Drink_': 12,\n",
       " 'Sleep_': 13,\n",
       " 'Where_': 14}"
      ]
     },
     "execution_count": 11,
     "metadata": {},
     "output_type": "execute_result"
    }
   ],
   "source": [
    "label_map"
   ]
  },
  {
   "cell_type": "code",
   "execution_count": 12,
   "id": "b89b10d5",
   "metadata": {},
   "outputs": [],
   "source": [
    "sequences, labels = [], []\n",
    "for action in actions:\n",
    "    for sequence in range(no_sequences):\n",
    "        window = []\n",
    "        for frame_num in range(sequence_length):\n",
    "            res = np.load(os.path.join(DATA_PATH, action, str(sequence), \"{}.npy\".format(frame_num)))\n",
    "            window.append(res)\n",
    "        sequences.append(window)\n",
    "        labels.append(label_map[action])"
   ]
  },
  {
   "cell_type": "code",
   "execution_count": 13,
   "id": "486f1007",
   "metadata": {},
   "outputs": [
    {
     "data": {
      "text/plain": [
       "(900, 30, 1662)"
      ]
     },
     "execution_count": 13,
     "metadata": {},
     "output_type": "execute_result"
    }
   ],
   "source": [
    "X = np.array(sequences)\n",
    "X.shape"
   ]
  },
  {
   "cell_type": "code",
   "execution_count": 14,
   "id": "78ec43e7",
   "metadata": {},
   "outputs": [
    {
     "data": {
      "text/plain": [
       "(900, 30, 1662)"
      ]
     },
     "execution_count": 14,
     "metadata": {},
     "output_type": "execute_result"
    }
   ],
   "source": [
    "np.array(labels).shape\n",
    "X.shape"
   ]
  },
  {
   "cell_type": "code",
   "execution_count": 15,
   "id": "a134c83b",
   "metadata": {},
   "outputs": [],
   "source": [
    "y = to_categorical(labels).astype(int)"
   ]
  },
  {
   "cell_type": "code",
   "execution_count": 16,
   "id": "d9e28805",
   "metadata": {},
   "outputs": [
    {
     "data": {
      "text/plain": [
       "(90, 15)"
      ]
     },
     "execution_count": 16,
     "metadata": {},
     "output_type": "execute_result"
    }
   ],
   "source": [
    "X_train, X_test, y_train, y_test = train_test_split(X, y, test_size=0.1)\n",
    "y_test.shape"
   ]
  },
  {
   "cell_type": "code",
   "execution_count": 17,
   "id": "1ba79e82",
   "metadata": {},
   "outputs": [
    {
     "data": {
      "text/plain": [
       "(810, 30, 1662)"
      ]
     },
     "execution_count": 17,
     "metadata": {},
     "output_type": "execute_result"
    }
   ],
   "source": [
    "X_train.shape"
   ]
  },
  {
   "cell_type": "code",
   "execution_count": 18,
   "id": "861ba628",
   "metadata": {},
   "outputs": [
    {
     "data": {
      "text/plain": [
       "array([[0, 0, 1, ..., 0, 0, 0],\n",
       "       [0, 1, 0, ..., 0, 0, 0],\n",
       "       [1, 0, 0, ..., 0, 0, 0],\n",
       "       ...,\n",
       "       [0, 0, 0, ..., 0, 0, 0],\n",
       "       [0, 0, 0, ..., 0, 0, 0],\n",
       "       [0, 0, 0, ..., 0, 0, 0]])"
      ]
     },
     "execution_count": 18,
     "metadata": {},
     "output_type": "execute_result"
    }
   ],
   "source": [
    "y_test"
   ]
  },
  {
   "cell_type": "markdown",
   "id": "dd7858ed",
   "metadata": {},
   "source": [
    "# 7. Build and Train LSTM Neural Network"
   ]
  },
  {
   "cell_type": "code",
   "execution_count": 19,
   "id": "570bc368",
   "metadata": {},
   "outputs": [],
   "source": [
    "from tensorflow.keras.models import Sequential\n",
    "from tensorflow.keras.layers import LSTM, Dense,Dropout\n",
    "from tensorflow.keras.callbacks import TensorBoard\n",
    "from keras.optimizers import SGD"
   ]
  },
  {
   "cell_type": "code",
   "execution_count": 20,
   "id": "a28da7bf",
   "metadata": {},
   "outputs": [],
   "source": [
    "log_dir = os.path.join('Logs')\n",
    "tb_callback = TensorBoard(log_dir=log_dir)"
   ]
  },
  {
   "cell_type": "code",
   "execution_count": 110,
   "id": "a938ff12",
   "metadata": {},
   "outputs": [],
   "source": [
    "del model"
   ]
  },
  {
   "cell_type": "code",
   "execution_count": 21,
   "id": "73471dd5",
   "metadata": {},
   "outputs": [],
   "source": [
    "model = Sequential()\n",
    "model.add(LSTM(64, return_sequences=True, activation='tanh', input_shape=(30,1662)))\n",
    "model.add(Dropout(0.2))\n",
    "model.add(LSTM(128, return_sequences=True, activation='tanh'))\n",
    "model.add(Dropout(0.2))\n",
    "model.add(LSTM(64, return_sequences=False, activation='tanh'))\n",
    "model.add(Dropout(0.2))\n",
    "model.add(Dense(64, activation='relu'))\n",
    "model.add(Dense(32, activation='relu'))\n",
    "model.add(Dense(actions.shape[0], activation='softmax'))"
   ]
  },
  {
   "cell_type": "code",
   "execution_count": 22,
   "id": "9996582e",
   "metadata": {},
   "outputs": [],
   "source": [
    "model.compile(optimizer='adam', loss='categorical_crossentropy', metrics=['categorical_accuracy'])"
   ]
  },
  {
   "cell_type": "code",
   "execution_count": 59,
   "id": "69c9c6b5",
   "metadata": {
    "scrolled": true
   },
   "outputs": [
    {
     "name": "stdout",
     "output_type": "stream",
     "text": [
      "Epoch 1/2000\n",
      "26/26 [==============================] - 1s 17ms/step - loss: 0.0213 - categorical_accuracy: 0.9951\n",
      "Epoch 2/2000\n",
      "26/26 [==============================] - 0s 16ms/step - loss: 0.0581 - categorical_accuracy: 0.9815\n",
      "Epoch 3/2000\n",
      "26/26 [==============================] - 0s 16ms/step - loss: 0.0331 - categorical_accuracy: 0.9914\n",
      "Epoch 4/2000\n",
      "26/26 [==============================] - 0s 15ms/step - loss: 0.0244 - categorical_accuracy: 0.9901\n",
      "Epoch 5/2000\n",
      "26/26 [==============================] - 0s 15ms/step - loss: 0.0425 - categorical_accuracy: 0.9840\n",
      "Epoch 6/2000\n",
      "26/26 [==============================] - 0s 15ms/step - loss: 0.0271 - categorical_accuracy: 0.9901\n",
      "Epoch 7/2000\n",
      "26/26 [==============================] - 0s 15ms/step - loss: 0.0217 - categorical_accuracy: 0.9938\n",
      "Epoch 8/2000\n",
      "26/26 [==============================] - 0s 15ms/step - loss: 0.0254 - categorical_accuracy: 0.9914\n",
      "Epoch 9/2000\n",
      "26/26 [==============================] - 0s 15ms/step - loss: 0.0185 - categorical_accuracy: 0.9951\n",
      "Epoch 10/2000\n",
      "26/26 [==============================] - 0s 16ms/step - loss: 0.0125 - categorical_accuracy: 0.9963\n",
      "Epoch 11/2000\n",
      "26/26 [==============================] - 0s 16ms/step - loss: 0.0121 - categorical_accuracy: 0.9963\n",
      "Epoch 12/2000\n",
      "26/26 [==============================] - 0s 15ms/step - loss: 0.0112 - categorical_accuracy: 0.9963\n",
      "Epoch 13/2000\n",
      "26/26 [==============================] - 0s 16ms/step - loss: 0.0270 - categorical_accuracy: 0.9889\n",
      "Epoch 14/2000\n",
      "26/26 [==============================] - 0s 16ms/step - loss: 0.0255 - categorical_accuracy: 0.9877\n",
      "Epoch 15/2000\n",
      "26/26 [==============================] - 0s 17ms/step - loss: 0.0439 - categorical_accuracy: 0.9852\n",
      "Epoch 16/2000\n",
      "26/26 [==============================] - 0s 16ms/step - loss: 0.0237 - categorical_accuracy: 0.9926\n",
      "Epoch 17/2000\n",
      "26/26 [==============================] - 0s 17ms/step - loss: 0.0108 - categorical_accuracy: 0.9963\n",
      "Epoch 18/2000\n",
      "26/26 [==============================] - 0s 17ms/step - loss: 0.0121 - categorical_accuracy: 0.9963\n",
      "Epoch 19/2000\n",
      "26/26 [==============================] - 0s 16ms/step - loss: 0.0129 - categorical_accuracy: 0.9975\n",
      "Epoch 20/2000\n",
      "26/26 [==============================] - 0s 16ms/step - loss: 0.0088 - categorical_accuracy: 0.9963\n",
      "Epoch 21/2000\n",
      "26/26 [==============================] - 0s 15ms/step - loss: 0.0099 - categorical_accuracy: 0.9963\n",
      "Epoch 22/2000\n",
      "26/26 [==============================] - 0s 17ms/step - loss: 0.0274 - categorical_accuracy: 0.9877\n",
      "Epoch 23/2000\n",
      "26/26 [==============================] - 0s 16ms/step - loss: 0.2730 - categorical_accuracy: 0.9321\n",
      "Epoch 24/2000\n",
      "26/26 [==============================] - 0s 15ms/step - loss: 0.1082 - categorical_accuracy: 0.9679\n",
      "Epoch 25/2000\n",
      "26/26 [==============================] - 0s 19ms/step - loss: 0.0349 - categorical_accuracy: 0.9889\n",
      "Epoch 26/2000\n",
      "26/26 [==============================] - 0s 16ms/step - loss: 0.0489 - categorical_accuracy: 0.9815\n",
      "Epoch 27/2000\n",
      "26/26 [==============================] - 0s 17ms/step - loss: 0.0391 - categorical_accuracy: 0.9889\n",
      "Epoch 28/2000\n",
      "26/26 [==============================] - 0s 17ms/step - loss: 0.0282 - categorical_accuracy: 0.9901\n",
      "Epoch 29/2000\n",
      "26/26 [==============================] - 0s 18ms/step - loss: 0.2164 - categorical_accuracy: 0.9284\n",
      "Epoch 30/2000\n",
      "26/26 [==============================] - 0s 18ms/step - loss: 0.1453 - categorical_accuracy: 0.9543\n",
      "Epoch 31/2000\n",
      "26/26 [==============================] - 0s 15ms/step - loss: 0.0351 - categorical_accuracy: 0.9877\n",
      "Epoch 32/2000\n",
      "26/26 [==============================] - 0s 16ms/step - loss: 0.0442 - categorical_accuracy: 0.9815\n",
      "Epoch 33/2000\n",
      "26/26 [==============================] - 1s 21ms/step - loss: 0.0128 - categorical_accuracy: 0.9975\n",
      "Epoch 34/2000\n",
      "26/26 [==============================] - 0s 18ms/step - loss: 0.0170 - categorical_accuracy: 0.9938\n",
      "Epoch 35/2000\n",
      "26/26 [==============================] - 0s 18ms/step - loss: 0.1044 - categorical_accuracy: 0.9691\n",
      "Epoch 36/2000\n",
      "26/26 [==============================] - 0s 18ms/step - loss: 0.0263 - categorical_accuracy: 0.9963\n",
      "Epoch 37/2000\n",
      "26/26 [==============================] - 0s 17ms/step - loss: 0.0167 - categorical_accuracy: 0.9975\n",
      "Epoch 38/2000\n",
      "26/26 [==============================] - 0s 18ms/step - loss: 0.0231 - categorical_accuracy: 0.9914\n",
      "Epoch 39/2000\n",
      "26/26 [==============================] - 0s 17ms/step - loss: 0.0123 - categorical_accuracy: 0.9975\n",
      "Epoch 40/2000\n",
      "26/26 [==============================] - 0s 16ms/step - loss: 0.0092 - categorical_accuracy: 0.9963\n",
      "Epoch 41/2000\n",
      "26/26 [==============================] - 0s 15ms/step - loss: 0.0159 - categorical_accuracy: 0.9963\n",
      "Epoch 42/2000\n",
      "26/26 [==============================] - 0s 15ms/step - loss: 0.0387 - categorical_accuracy: 0.9864\n",
      "Epoch 43/2000\n",
      "26/26 [==============================] - 0s 15ms/step - loss: 0.0379 - categorical_accuracy: 0.9864\n",
      "Epoch 44/2000\n",
      "26/26 [==============================] - 0s 15ms/step - loss: 0.0201 - categorical_accuracy: 0.9938\n",
      "Epoch 45/2000\n",
      "26/26 [==============================] - 0s 15ms/step - loss: 0.0130 - categorical_accuracy: 0.9963\n",
      "Epoch 46/2000\n",
      "26/26 [==============================] - 0s 15ms/step - loss: 0.0143 - categorical_accuracy: 0.9938\n",
      "Epoch 47/2000\n",
      "26/26 [==============================] - 0s 15ms/step - loss: 0.0147 - categorical_accuracy: 0.9938\n",
      "Epoch 48/2000\n",
      "26/26 [==============================] - 0s 15ms/step - loss: 0.0085 - categorical_accuracy: 0.9988\n",
      "Epoch 49/2000\n",
      "26/26 [==============================] - 1s 20ms/step - loss: 0.0181 - categorical_accuracy: 0.9963\n",
      "Epoch 50/2000\n",
      "26/26 [==============================] - 0s 15ms/step - loss: 0.0213 - categorical_accuracy: 0.9926\n",
      "Epoch 51/2000\n",
      "26/26 [==============================] - 0s 16ms/step - loss: 0.0238 - categorical_accuracy: 0.9889\n",
      "Epoch 52/2000\n",
      "26/26 [==============================] - 0s 18ms/step - loss: 0.0084 - categorical_accuracy: 0.9975\n",
      "Epoch 53/2000\n",
      "26/26 [==============================] - 0s 15ms/step - loss: 0.0067 - categorical_accuracy: 0.9988\n",
      "Epoch 54/2000\n",
      "26/26 [==============================] - 0s 17ms/step - loss: 0.0088 - categorical_accuracy: 0.9988\n",
      "Epoch 55/2000\n",
      "26/26 [==============================] - 0s 15ms/step - loss: 0.0040 - categorical_accuracy: 1.0000\n",
      "Epoch 56/2000\n",
      "26/26 [==============================] - 0s 15ms/step - loss: 0.0099 - categorical_accuracy: 0.9975\n",
      "Epoch 57/2000\n",
      "26/26 [==============================] - 0s 19ms/step - loss: 0.0035 - categorical_accuracy: 0.9988\n",
      "Epoch 58/2000\n",
      "26/26 [==============================] - 0s 15ms/step - loss: 0.0070 - categorical_accuracy: 0.9975\n",
      "Epoch 59/2000\n",
      "26/26 [==============================] - 0s 15ms/step - loss: 0.0252 - categorical_accuracy: 0.9926\n",
      "Epoch 60/2000\n",
      "26/26 [==============================] - 1s 22ms/step - loss: 0.0302 - categorical_accuracy: 0.9914\n",
      "Epoch 61/2000\n",
      "26/26 [==============================] - 0s 18ms/step - loss: 0.0551 - categorical_accuracy: 0.9753\n",
      "Epoch 62/2000\n",
      "26/26 [==============================] - 0s 16ms/step - loss: 0.0160 - categorical_accuracy: 0.9963\n",
      "Epoch 63/2000\n",
      "26/26 [==============================] - 0s 16ms/step - loss: 0.0075 - categorical_accuracy: 0.9988\n",
      "Epoch 64/2000\n",
      "26/26 [==============================] - 0s 16ms/step - loss: 0.0205 - categorical_accuracy: 0.9926\n",
      "Epoch 65/2000\n",
      "26/26 [==============================] - 0s 15ms/step - loss: 0.0184 - categorical_accuracy: 0.9926\n",
      "Epoch 66/2000\n",
      "26/26 [==============================] - 0s 16ms/step - loss: 0.0089 - categorical_accuracy: 0.9988\n",
      "Epoch 67/2000\n",
      "26/26 [==============================] - 0s 15ms/step - loss: 0.0279 - categorical_accuracy: 0.9914\n",
      "Epoch 68/2000\n",
      "26/26 [==============================] - 0s 17ms/step - loss: 0.0241 - categorical_accuracy: 0.9901\n",
      "Epoch 69/2000\n",
      "26/26 [==============================] - 0s 15ms/step - loss: 0.0097 - categorical_accuracy: 0.9988\n",
      "Epoch 70/2000\n",
      "26/26 [==============================] - 0s 15ms/step - loss: 0.0204 - categorical_accuracy: 0.9914\n",
      "Epoch 71/2000\n",
      "26/26 [==============================] - 0s 15ms/step - loss: 0.1011 - categorical_accuracy: 0.9630\n",
      "Epoch 72/2000\n"
     ]
    },
    {
     "name": "stdout",
     "output_type": "stream",
     "text": [
      "26/26 [==============================] - 0s 15ms/step - loss: 0.1693 - categorical_accuracy: 0.9568\n",
      "Epoch 73/2000\n",
      "26/26 [==============================] - 0s 15ms/step - loss: 0.1694 - categorical_accuracy: 0.9580\n",
      "Epoch 74/2000\n",
      "26/26 [==============================] - 0s 15ms/step - loss: 0.1709 - categorical_accuracy: 0.9519\n",
      "Epoch 75/2000\n",
      "26/26 [==============================] - 0s 15ms/step - loss: 0.0703 - categorical_accuracy: 0.9790\n",
      "Epoch 76/2000\n",
      "26/26 [==============================] - 0s 15ms/step - loss: 0.0227 - categorical_accuracy: 0.9951\n",
      "Epoch 77/2000\n",
      "26/26 [==============================] - 1s 20ms/step - loss: 0.0683 - categorical_accuracy: 0.9778\n",
      "Epoch 78/2000\n",
      "26/26 [==============================] - 0s 15ms/step - loss: 0.0209 - categorical_accuracy: 0.9926\n",
      "Epoch 79/2000\n",
      "26/26 [==============================] - 0s 15ms/step - loss: 0.0286 - categorical_accuracy: 0.9901\n",
      "Epoch 80/2000\n",
      "26/26 [==============================] - 0s 15ms/step - loss: 0.0140 - categorical_accuracy: 0.9963\n",
      "Epoch 81/2000\n",
      "26/26 [==============================] - 0s 15ms/step - loss: 0.0178 - categorical_accuracy: 0.9926\n",
      "Epoch 82/2000\n",
      "26/26 [==============================] - 0s 15ms/step - loss: 0.0105 - categorical_accuracy: 0.9975\n",
      "Epoch 83/2000\n",
      "26/26 [==============================] - 0s 15ms/step - loss: 0.0310 - categorical_accuracy: 0.9889\n",
      "Epoch 84/2000\n",
      "26/26 [==============================] - 0s 16ms/step - loss: 0.0174 - categorical_accuracy: 0.9938\n",
      "Epoch 85/2000\n",
      "26/26 [==============================] - 0s 15ms/step - loss: 0.0195 - categorical_accuracy: 0.9926\n",
      "Epoch 86/2000\n",
      "26/26 [==============================] - 0s 15ms/step - loss: 0.0068 - categorical_accuracy: 0.9988\n",
      "Epoch 87/2000\n",
      "26/26 [==============================] - 0s 15ms/step - loss: 0.0402 - categorical_accuracy: 0.9840\n",
      "Epoch 88/2000\n",
      "26/26 [==============================] - 0s 16ms/step - loss: 0.0303 - categorical_accuracy: 0.9877\n",
      "Epoch 89/2000\n",
      "26/26 [==============================] - 0s 15ms/step - loss: 0.0291 - categorical_accuracy: 0.9963\n",
      "Epoch 90/2000\n",
      "26/26 [==============================] - 0s 15ms/step - loss: 0.0472 - categorical_accuracy: 0.9802\n",
      "Epoch 91/2000\n",
      "26/26 [==============================] - 0s 15ms/step - loss: 0.0184 - categorical_accuracy: 0.9951\n",
      "Epoch 92/2000\n",
      "26/26 [==============================] - 0s 15ms/step - loss: 0.0107 - categorical_accuracy: 0.9975\n",
      "Epoch 93/2000\n",
      "26/26 [==============================] - 0s 15ms/step - loss: 0.0311 - categorical_accuracy: 0.9901\n",
      "Epoch 94/2000\n",
      "26/26 [==============================] - 0s 15ms/step - loss: 0.1021 - categorical_accuracy: 0.9654\n",
      "Epoch 95/2000\n",
      "26/26 [==============================] - 0s 15ms/step - loss: 0.0178 - categorical_accuracy: 0.9975\n",
      "Epoch 96/2000\n",
      "26/26 [==============================] - 1s 24ms/step - loss: 0.0103 - categorical_accuracy: 0.9951\n",
      "Epoch 97/2000\n",
      "26/26 [==============================] - 0s 18ms/step - loss: 0.0094 - categorical_accuracy: 0.9951\n",
      "Epoch 98/2000\n",
      "26/26 [==============================] - 0s 17ms/step - loss: 0.0065 - categorical_accuracy: 0.9963\n",
      "Epoch 99/2000\n",
      "26/26 [==============================] - 0s 16ms/step - loss: 0.0150 - categorical_accuracy: 0.9951\n",
      "Epoch 100/2000\n",
      "26/26 [==============================] - 0s 16ms/step - loss: 0.0081 - categorical_accuracy: 0.9963\n",
      "Epoch 101/2000\n",
      "26/26 [==============================] - 0s 17ms/step - loss: 0.0174 - categorical_accuracy: 0.9963\n",
      "Epoch 102/2000\n",
      "26/26 [==============================] - 0s 18ms/step - loss: 0.0597 - categorical_accuracy: 0.9815\n",
      "Epoch 103/2000\n",
      "26/26 [==============================] - 0s 19ms/step - loss: 0.0246 - categorical_accuracy: 0.9889\n",
      "Epoch 104/2000\n",
      "26/26 [==============================] - 1s 20ms/step - loss: 0.0140 - categorical_accuracy: 0.9963\n",
      "Epoch 105/2000\n",
      "26/26 [==============================] - 1s 24ms/step - loss: 0.0120 - categorical_accuracy: 0.9963\n",
      "Epoch 106/2000\n",
      "26/26 [==============================] - 0s 16ms/step - loss: 0.0070 - categorical_accuracy: 0.9988\n",
      "Epoch 107/2000\n",
      "26/26 [==============================] - 0s 19ms/step - loss: 0.0111 - categorical_accuracy: 0.9963\n",
      "Epoch 108/2000\n",
      "26/26 [==============================] - 0s 18ms/step - loss: 0.0969 - categorical_accuracy: 0.9802\n",
      "Epoch 109/2000\n",
      "26/26 [==============================] - 0s 19ms/step - loss: 0.0990 - categorical_accuracy: 0.9654\n",
      "Epoch 110/2000\n",
      "26/26 [==============================] - 0s 16ms/step - loss: 0.3000 - categorical_accuracy: 0.9210\n",
      "Epoch 111/2000\n",
      "26/26 [==============================] - 0s 16ms/step - loss: 0.0452 - categorical_accuracy: 0.9889\n",
      "Epoch 112/2000\n",
      "26/26 [==============================] - 0s 18ms/step - loss: 0.0233 - categorical_accuracy: 0.9926\n",
      "Epoch 113/2000\n",
      "26/26 [==============================] - 0s 15ms/step - loss: 0.0253 - categorical_accuracy: 0.9901\n",
      "Epoch 114/2000\n",
      "26/26 [==============================] - 0s 15ms/step - loss: 0.0132 - categorical_accuracy: 0.9975\n",
      "Epoch 115/2000\n",
      "26/26 [==============================] - 0s 15ms/step - loss: 0.0416 - categorical_accuracy: 0.9877\n",
      "Epoch 116/2000\n",
      "26/26 [==============================] - 0s 16ms/step - loss: 0.0826 - categorical_accuracy: 0.9679\n",
      "Epoch 117/2000\n",
      "26/26 [==============================] - 0s 18ms/step - loss: 0.0607 - categorical_accuracy: 0.9790\n",
      "Epoch 118/2000\n",
      "26/26 [==============================] - 0s 15ms/step - loss: 0.0843 - categorical_accuracy: 0.9790\n",
      "Epoch 119/2000\n",
      "26/26 [==============================] - 1s 19ms/step - loss: 0.1226 - categorical_accuracy: 0.9617\n",
      "Epoch 120/2000\n",
      "26/26 [==============================] - 0s 18ms/step - loss: 0.0389 - categorical_accuracy: 0.9864\n",
      "Epoch 121/2000\n",
      "26/26 [==============================] - 0s 15ms/step - loss: 0.0106 - categorical_accuracy: 0.9975\n",
      "Epoch 122/2000\n",
      "26/26 [==============================] - 1s 20ms/step - loss: 0.0083 - categorical_accuracy: 0.9988\n",
      "Epoch 123/2000\n",
      "26/26 [==============================] - 0s 18ms/step - loss: 0.0134 - categorical_accuracy: 0.9951\n",
      "Epoch 124/2000\n",
      "26/26 [==============================] - 0s 18ms/step - loss: 0.0052 - categorical_accuracy: 0.9988\n",
      "Epoch 125/2000\n",
      "26/26 [==============================] - 0s 19ms/step - loss: 0.0238 - categorical_accuracy: 0.9901\n",
      "Epoch 126/2000\n",
      "26/26 [==============================] - 1s 19ms/step - loss: 0.0077 - categorical_accuracy: 0.9988\n",
      "Epoch 127/2000\n",
      "26/26 [==============================] - 0s 18ms/step - loss: 0.0045 - categorical_accuracy: 0.9988\n",
      "Epoch 128/2000\n",
      "26/26 [==============================] - 0s 19ms/step - loss: 0.0225 - categorical_accuracy: 0.9914\n",
      "Epoch 129/2000\n",
      "26/26 [==============================] - 0s 15ms/step - loss: 0.0155 - categorical_accuracy: 0.9951\n",
      "Epoch 130/2000\n",
      "26/26 [==============================] - 0s 15ms/step - loss: 0.0108 - categorical_accuracy: 0.9963\n",
      "Epoch 131/2000\n",
      "26/26 [==============================] - 0s 15ms/step - loss: 0.0085 - categorical_accuracy: 0.9975\n",
      "Epoch 132/2000\n",
      "26/26 [==============================] - 0s 18ms/step - loss: 0.0311 - categorical_accuracy: 0.9901\n",
      "Epoch 133/2000\n",
      "26/26 [==============================] - 0s 18ms/step - loss: 0.0089 - categorical_accuracy: 0.9988\n",
      "Epoch 134/2000\n",
      "26/26 [==============================] - 0s 16ms/step - loss: 0.0039 - categorical_accuracy: 1.0000\n",
      "Epoch 135/2000\n",
      "26/26 [==============================] - 0s 15ms/step - loss: 0.0038 - categorical_accuracy: 0.9975\n",
      "Epoch 136/2000\n",
      "26/26 [==============================] - 1s 19ms/step - loss: 0.0120 - categorical_accuracy: 0.9975\n",
      "Epoch 137/2000\n",
      "26/26 [==============================] - 0s 17ms/step - loss: 0.0120 - categorical_accuracy: 0.9951\n",
      "Epoch 138/2000\n",
      "26/26 [==============================] - 0s 16ms/step - loss: 0.0227 - categorical_accuracy: 0.9914\n",
      "Epoch 139/2000\n",
      "26/26 [==============================] - 0s 17ms/step - loss: 0.0345 - categorical_accuracy: 0.9877\n",
      "Epoch 140/2000\n",
      "26/26 [==============================] - 0s 17ms/step - loss: 0.0081 - categorical_accuracy: 0.9963\n",
      "Epoch 141/2000\n",
      "26/26 [==============================] - 0s 15ms/step - loss: 0.0045 - categorical_accuracy: 0.9975\n",
      "Epoch 142/2000\n",
      "26/26 [==============================] - 0s 16ms/step - loss: 0.0137 - categorical_accuracy: 0.9926\n",
      "Epoch 143/2000\n"
     ]
    },
    {
     "name": "stdout",
     "output_type": "stream",
     "text": [
      "26/26 [==============================] - 0s 16ms/step - loss: 0.0201 - categorical_accuracy: 0.9938\n",
      "Epoch 144/2000\n",
      "26/26 [==============================] - 0s 16ms/step - loss: 0.0078 - categorical_accuracy: 0.9988\n",
      "Epoch 145/2000\n",
      "26/26 [==============================] - 1s 20ms/step - loss: 0.0048 - categorical_accuracy: 0.9988\n",
      "Epoch 146/2000\n",
      "26/26 [==============================] - 0s 18ms/step - loss: 0.0050 - categorical_accuracy: 0.9975\n",
      "Epoch 147/2000\n",
      "26/26 [==============================] - 0s 17ms/step - loss: 0.0481 - categorical_accuracy: 0.9852\n",
      "Epoch 148/2000\n",
      "26/26 [==============================] - 0s 16ms/step - loss: 0.0197 - categorical_accuracy: 0.9901\n",
      "Epoch 149/2000\n",
      "26/26 [==============================] - 0s 16ms/step - loss: 0.0051 - categorical_accuracy: 1.0000\n",
      "Epoch 150/2000\n",
      "26/26 [==============================] - 0s 16ms/step - loss: 0.0859 - categorical_accuracy: 0.9827\n",
      "Epoch 151/2000\n",
      "26/26 [==============================] - 0s 19ms/step - loss: 0.2141 - categorical_accuracy: 0.9457\n",
      "Epoch 152/2000\n",
      "26/26 [==============================] - 0s 16ms/step - loss: 0.0515 - categorical_accuracy: 0.9840\n",
      "Epoch 153/2000\n",
      "26/26 [==============================] - 0s 16ms/step - loss: 0.0163 - categorical_accuracy: 0.9951\n",
      "Epoch 154/2000\n",
      "26/26 [==============================] - 0s 17ms/step - loss: 0.0304 - categorical_accuracy: 0.9901\n",
      "Epoch 155/2000\n",
      "26/26 [==============================] - 0s 16ms/step - loss: 0.1151 - categorical_accuracy: 0.9654\n",
      "Epoch 156/2000\n",
      "26/26 [==============================] - 0s 16ms/step - loss: 0.0312 - categorical_accuracy: 0.9901\n",
      "Epoch 157/2000\n",
      "26/26 [==============================] - 0s 15ms/step - loss: 0.0203 - categorical_accuracy: 0.9926\n",
      "Epoch 158/2000\n",
      "26/26 [==============================] - 0s 17ms/step - loss: 0.0598 - categorical_accuracy: 0.9852\n",
      "Epoch 159/2000\n",
      "26/26 [==============================] - 0s 16ms/step - loss: 0.0325 - categorical_accuracy: 0.9877\n",
      "Epoch 160/2000\n",
      "26/26 [==============================] - 0s 15ms/step - loss: 0.0266 - categorical_accuracy: 0.9938\n",
      "Epoch 161/2000\n",
      "26/26 [==============================] - 0s 17ms/step - loss: 0.0082 - categorical_accuracy: 0.9988\n",
      "Epoch 162/2000\n",
      "26/26 [==============================] - 0s 17ms/step - loss: 0.0056 - categorical_accuracy: 0.9988\n",
      "Epoch 163/2000\n",
      "26/26 [==============================] - 0s 15ms/step - loss: 0.0147 - categorical_accuracy: 0.9951\n",
      "Epoch 164/2000\n",
      "26/26 [==============================] - 0s 17ms/step - loss: 0.0158 - categorical_accuracy: 0.9951\n",
      "Epoch 165/2000\n",
      "26/26 [==============================] - 0s 15ms/step - loss: 0.0175 - categorical_accuracy: 0.9914\n",
      "Epoch 166/2000\n",
      "26/26 [==============================] - 0s 17ms/step - loss: 0.0056 - categorical_accuracy: 0.9988\n",
      "Epoch 167/2000\n",
      "26/26 [==============================] - 0s 15ms/step - loss: 0.0020 - categorical_accuracy: 1.0000\n",
      "Epoch 168/2000\n",
      "26/26 [==============================] - 0s 18ms/step - loss: 0.0080 - categorical_accuracy: 0.9975\n",
      "Epoch 169/2000\n",
      "26/26 [==============================] - 0s 16ms/step - loss: 0.0186 - categorical_accuracy: 0.9951\n",
      "Epoch 170/2000\n",
      "26/26 [==============================] - 0s 16ms/step - loss: 0.0143 - categorical_accuracy: 0.9951\n",
      "Epoch 171/2000\n",
      "26/26 [==============================] - 0s 16ms/step - loss: 0.0120 - categorical_accuracy: 0.9963\n",
      "Epoch 172/2000\n",
      "26/26 [==============================] - 0s 18ms/step - loss: 0.0120 - categorical_accuracy: 0.9951\n",
      "Epoch 173/2000\n",
      "26/26 [==============================] - 0s 17ms/step - loss: 0.0095 - categorical_accuracy: 0.9951\n",
      "Epoch 174/2000\n",
      "26/26 [==============================] - 0s 15ms/step - loss: 0.0066 - categorical_accuracy: 0.9975\n",
      "Epoch 175/2000\n",
      "26/26 [==============================] - 0s 15ms/step - loss: 0.0149 - categorical_accuracy: 0.9963\n",
      "Epoch 176/2000\n",
      "26/26 [==============================] - 0s 15ms/step - loss: 0.0064 - categorical_accuracy: 0.9975\n",
      "Epoch 177/2000\n",
      "26/26 [==============================] - 0s 15ms/step - loss: 0.0028 - categorical_accuracy: 1.0000\n",
      "Epoch 178/2000\n",
      "13/26 [==============>...............] - ETA: 0s - loss: 0.0022 - categorical_accuracy: 1.0000"
     ]
    },
    {
     "ename": "KeyboardInterrupt",
     "evalue": "",
     "output_type": "error",
     "traceback": [
      "\u001b[1;31m---------------------------------------------------------------------------\u001b[0m",
      "\u001b[1;31mKeyboardInterrupt\u001b[0m                         Traceback (most recent call last)",
      "Cell \u001b[1;32mIn [59], line 1\u001b[0m\n\u001b[1;32m----> 1\u001b[0m \u001b[43mmodel\u001b[49m\u001b[38;5;241;43m.\u001b[39;49m\u001b[43mfit\u001b[49m\u001b[43m(\u001b[49m\u001b[43mX_train\u001b[49m\u001b[43m,\u001b[49m\u001b[43m \u001b[49m\u001b[43my_train\u001b[49m\u001b[43m,\u001b[49m\u001b[43m \u001b[49m\u001b[43mepochs\u001b[49m\u001b[38;5;241;43m=\u001b[39;49m\u001b[38;5;241;43m2000\u001b[39;49m\u001b[43m,\u001b[49m\u001b[43m \u001b[49m\u001b[43mcallbacks\u001b[49m\u001b[38;5;241;43m=\u001b[39;49m\u001b[43m[\u001b[49m\u001b[43mtb_callback\u001b[49m\u001b[43m]\u001b[49m\u001b[43m)\u001b[49m\n",
      "File \u001b[1;32m~\\PycharmProjects\\AIP_project\\venv\\lib\\site-packages\\keras\\utils\\traceback_utils.py:65\u001b[0m, in \u001b[0;36mfilter_traceback.<locals>.error_handler\u001b[1;34m(*args, **kwargs)\u001b[0m\n\u001b[0;32m     63\u001b[0m filtered_tb \u001b[38;5;241m=\u001b[39m \u001b[38;5;28;01mNone\u001b[39;00m\n\u001b[0;32m     64\u001b[0m \u001b[38;5;28;01mtry\u001b[39;00m:\n\u001b[1;32m---> 65\u001b[0m     \u001b[38;5;28;01mreturn\u001b[39;00m fn(\u001b[38;5;241m*\u001b[39margs, \u001b[38;5;241m*\u001b[39m\u001b[38;5;241m*\u001b[39mkwargs)\n\u001b[0;32m     66\u001b[0m \u001b[38;5;28;01mexcept\u001b[39;00m \u001b[38;5;167;01mException\u001b[39;00m \u001b[38;5;28;01mas\u001b[39;00m e:\n\u001b[0;32m     67\u001b[0m     filtered_tb \u001b[38;5;241m=\u001b[39m _process_traceback_frames(e\u001b[38;5;241m.\u001b[39m__traceback__)\n",
      "File \u001b[1;32m~\\PycharmProjects\\AIP_project\\venv\\lib\\site-packages\\keras\\engine\\training.py:1564\u001b[0m, in \u001b[0;36mModel.fit\u001b[1;34m(self, x, y, batch_size, epochs, verbose, callbacks, validation_split, validation_data, shuffle, class_weight, sample_weight, initial_epoch, steps_per_epoch, validation_steps, validation_batch_size, validation_freq, max_queue_size, workers, use_multiprocessing)\u001b[0m\n\u001b[0;32m   1556\u001b[0m \u001b[38;5;28;01mwith\u001b[39;00m tf\u001b[38;5;241m.\u001b[39mprofiler\u001b[38;5;241m.\u001b[39mexperimental\u001b[38;5;241m.\u001b[39mTrace(\n\u001b[0;32m   1557\u001b[0m     \u001b[38;5;124m\"\u001b[39m\u001b[38;5;124mtrain\u001b[39m\u001b[38;5;124m\"\u001b[39m,\n\u001b[0;32m   1558\u001b[0m     epoch_num\u001b[38;5;241m=\u001b[39mepoch,\n\u001b[1;32m   (...)\u001b[0m\n\u001b[0;32m   1561\u001b[0m     _r\u001b[38;5;241m=\u001b[39m\u001b[38;5;241m1\u001b[39m,\n\u001b[0;32m   1562\u001b[0m ):\n\u001b[0;32m   1563\u001b[0m     callbacks\u001b[38;5;241m.\u001b[39mon_train_batch_begin(step)\n\u001b[1;32m-> 1564\u001b[0m     tmp_logs \u001b[38;5;241m=\u001b[39m \u001b[38;5;28;43mself\u001b[39;49m\u001b[38;5;241;43m.\u001b[39;49m\u001b[43mtrain_function\u001b[49m\u001b[43m(\u001b[49m\u001b[43miterator\u001b[49m\u001b[43m)\u001b[49m\n\u001b[0;32m   1565\u001b[0m     \u001b[38;5;28;01mif\u001b[39;00m data_handler\u001b[38;5;241m.\u001b[39mshould_sync:\n\u001b[0;32m   1566\u001b[0m         context\u001b[38;5;241m.\u001b[39masync_wait()\n",
      "File \u001b[1;32m~\\PycharmProjects\\AIP_project\\venv\\lib\\site-packages\\tensorflow\\python\\util\\traceback_utils.py:150\u001b[0m, in \u001b[0;36mfilter_traceback.<locals>.error_handler\u001b[1;34m(*args, **kwargs)\u001b[0m\n\u001b[0;32m    148\u001b[0m filtered_tb \u001b[38;5;241m=\u001b[39m \u001b[38;5;28;01mNone\u001b[39;00m\n\u001b[0;32m    149\u001b[0m \u001b[38;5;28;01mtry\u001b[39;00m:\n\u001b[1;32m--> 150\u001b[0m   \u001b[38;5;28;01mreturn\u001b[39;00m fn(\u001b[38;5;241m*\u001b[39margs, \u001b[38;5;241m*\u001b[39m\u001b[38;5;241m*\u001b[39mkwargs)\n\u001b[0;32m    151\u001b[0m \u001b[38;5;28;01mexcept\u001b[39;00m \u001b[38;5;167;01mException\u001b[39;00m \u001b[38;5;28;01mas\u001b[39;00m e:\n\u001b[0;32m    152\u001b[0m   filtered_tb \u001b[38;5;241m=\u001b[39m _process_traceback_frames(e\u001b[38;5;241m.\u001b[39m__traceback__)\n",
      "File \u001b[1;32m~\\PycharmProjects\\AIP_project\\venv\\lib\\site-packages\\tensorflow\\python\\eager\\def_function.py:915\u001b[0m, in \u001b[0;36mFunction.__call__\u001b[1;34m(self, *args, **kwds)\u001b[0m\n\u001b[0;32m    912\u001b[0m compiler \u001b[38;5;241m=\u001b[39m \u001b[38;5;124m\"\u001b[39m\u001b[38;5;124mxla\u001b[39m\u001b[38;5;124m\"\u001b[39m \u001b[38;5;28;01mif\u001b[39;00m \u001b[38;5;28mself\u001b[39m\u001b[38;5;241m.\u001b[39m_jit_compile \u001b[38;5;28;01melse\u001b[39;00m \u001b[38;5;124m\"\u001b[39m\u001b[38;5;124mnonXla\u001b[39m\u001b[38;5;124m\"\u001b[39m\n\u001b[0;32m    914\u001b[0m \u001b[38;5;28;01mwith\u001b[39;00m OptionalXlaContext(\u001b[38;5;28mself\u001b[39m\u001b[38;5;241m.\u001b[39m_jit_compile):\n\u001b[1;32m--> 915\u001b[0m   result \u001b[38;5;241m=\u001b[39m \u001b[38;5;28mself\u001b[39m\u001b[38;5;241m.\u001b[39m_call(\u001b[38;5;241m*\u001b[39margs, \u001b[38;5;241m*\u001b[39m\u001b[38;5;241m*\u001b[39mkwds)\n\u001b[0;32m    917\u001b[0m new_tracing_count \u001b[38;5;241m=\u001b[39m \u001b[38;5;28mself\u001b[39m\u001b[38;5;241m.\u001b[39mexperimental_get_tracing_count()\n\u001b[0;32m    918\u001b[0m without_tracing \u001b[38;5;241m=\u001b[39m (tracing_count \u001b[38;5;241m==\u001b[39m new_tracing_count)\n",
      "File \u001b[1;32m~\\PycharmProjects\\AIP_project\\venv\\lib\\site-packages\\tensorflow\\python\\eager\\def_function.py:947\u001b[0m, in \u001b[0;36mFunction._call\u001b[1;34m(self, *args, **kwds)\u001b[0m\n\u001b[0;32m    944\u001b[0m   \u001b[38;5;28mself\u001b[39m\u001b[38;5;241m.\u001b[39m_lock\u001b[38;5;241m.\u001b[39mrelease()\n\u001b[0;32m    945\u001b[0m   \u001b[38;5;66;03m# In this case we have created variables on the first call, so we run the\u001b[39;00m\n\u001b[0;32m    946\u001b[0m   \u001b[38;5;66;03m# defunned version which is guaranteed to never create variables.\u001b[39;00m\n\u001b[1;32m--> 947\u001b[0m   \u001b[38;5;28;01mreturn\u001b[39;00m \u001b[38;5;28mself\u001b[39m\u001b[38;5;241m.\u001b[39m_stateless_fn(\u001b[38;5;241m*\u001b[39margs, \u001b[38;5;241m*\u001b[39m\u001b[38;5;241m*\u001b[39mkwds)  \u001b[38;5;66;03m# pylint: disable=not-callable\u001b[39;00m\n\u001b[0;32m    948\u001b[0m \u001b[38;5;28;01melif\u001b[39;00m \u001b[38;5;28mself\u001b[39m\u001b[38;5;241m.\u001b[39m_stateful_fn \u001b[38;5;129;01mis\u001b[39;00m \u001b[38;5;129;01mnot\u001b[39;00m \u001b[38;5;28;01mNone\u001b[39;00m:\n\u001b[0;32m    949\u001b[0m   \u001b[38;5;66;03m# Release the lock early so that multiple threads can perform the call\u001b[39;00m\n\u001b[0;32m    950\u001b[0m   \u001b[38;5;66;03m# in parallel.\u001b[39;00m\n\u001b[0;32m    951\u001b[0m   \u001b[38;5;28mself\u001b[39m\u001b[38;5;241m.\u001b[39m_lock\u001b[38;5;241m.\u001b[39mrelease()\n",
      "File \u001b[1;32m~\\PycharmProjects\\AIP_project\\venv\\lib\\site-packages\\tensorflow\\python\\eager\\function.py:2496\u001b[0m, in \u001b[0;36mFunction.__call__\u001b[1;34m(self, *args, **kwargs)\u001b[0m\n\u001b[0;32m   2493\u001b[0m \u001b[38;5;28;01mwith\u001b[39;00m \u001b[38;5;28mself\u001b[39m\u001b[38;5;241m.\u001b[39m_lock:\n\u001b[0;32m   2494\u001b[0m   (graph_function,\n\u001b[0;32m   2495\u001b[0m    filtered_flat_args) \u001b[38;5;241m=\u001b[39m \u001b[38;5;28mself\u001b[39m\u001b[38;5;241m.\u001b[39m_maybe_define_function(args, kwargs)\n\u001b[1;32m-> 2496\u001b[0m \u001b[38;5;28;01mreturn\u001b[39;00m \u001b[43mgraph_function\u001b[49m\u001b[38;5;241;43m.\u001b[39;49m\u001b[43m_call_flat\u001b[49m\u001b[43m(\u001b[49m\n\u001b[0;32m   2497\u001b[0m \u001b[43m    \u001b[49m\u001b[43mfiltered_flat_args\u001b[49m\u001b[43m,\u001b[49m\u001b[43m \u001b[49m\u001b[43mcaptured_inputs\u001b[49m\u001b[38;5;241;43m=\u001b[39;49m\u001b[43mgraph_function\u001b[49m\u001b[38;5;241;43m.\u001b[39;49m\u001b[43mcaptured_inputs\u001b[49m\u001b[43m)\u001b[49m\n",
      "File \u001b[1;32m~\\PycharmProjects\\AIP_project\\venv\\lib\\site-packages\\tensorflow\\python\\eager\\function.py:1862\u001b[0m, in \u001b[0;36mConcreteFunction._call_flat\u001b[1;34m(self, args, captured_inputs, cancellation_manager)\u001b[0m\n\u001b[0;32m   1858\u001b[0m possible_gradient_type \u001b[38;5;241m=\u001b[39m gradients_util\u001b[38;5;241m.\u001b[39mPossibleTapeGradientTypes(args)\n\u001b[0;32m   1859\u001b[0m \u001b[38;5;28;01mif\u001b[39;00m (possible_gradient_type \u001b[38;5;241m==\u001b[39m gradients_util\u001b[38;5;241m.\u001b[39mPOSSIBLE_GRADIENT_TYPES_NONE\n\u001b[0;32m   1860\u001b[0m     \u001b[38;5;129;01mand\u001b[39;00m executing_eagerly):\n\u001b[0;32m   1861\u001b[0m   \u001b[38;5;66;03m# No tape is watching; skip to running the function.\u001b[39;00m\n\u001b[1;32m-> 1862\u001b[0m   \u001b[38;5;28;01mreturn\u001b[39;00m \u001b[38;5;28mself\u001b[39m\u001b[38;5;241m.\u001b[39m_build_call_outputs(\u001b[38;5;28;43mself\u001b[39;49m\u001b[38;5;241;43m.\u001b[39;49m\u001b[43m_inference_function\u001b[49m\u001b[38;5;241;43m.\u001b[39;49m\u001b[43mcall\u001b[49m\u001b[43m(\u001b[49m\n\u001b[0;32m   1863\u001b[0m \u001b[43m      \u001b[49m\u001b[43mctx\u001b[49m\u001b[43m,\u001b[49m\u001b[43m \u001b[49m\u001b[43margs\u001b[49m\u001b[43m,\u001b[49m\u001b[43m \u001b[49m\u001b[43mcancellation_manager\u001b[49m\u001b[38;5;241;43m=\u001b[39;49m\u001b[43mcancellation_manager\u001b[49m\u001b[43m)\u001b[49m)\n\u001b[0;32m   1864\u001b[0m forward_backward \u001b[38;5;241m=\u001b[39m \u001b[38;5;28mself\u001b[39m\u001b[38;5;241m.\u001b[39m_select_forward_and_backward_functions(\n\u001b[0;32m   1865\u001b[0m     args,\n\u001b[0;32m   1866\u001b[0m     possible_gradient_type,\n\u001b[0;32m   1867\u001b[0m     executing_eagerly)\n\u001b[0;32m   1868\u001b[0m forward_function, args_with_tangents \u001b[38;5;241m=\u001b[39m forward_backward\u001b[38;5;241m.\u001b[39mforward()\n",
      "File \u001b[1;32m~\\PycharmProjects\\AIP_project\\venv\\lib\\site-packages\\tensorflow\\python\\eager\\function.py:499\u001b[0m, in \u001b[0;36m_EagerDefinedFunction.call\u001b[1;34m(self, ctx, args, cancellation_manager)\u001b[0m\n\u001b[0;32m    497\u001b[0m \u001b[38;5;28;01mwith\u001b[39;00m _InterpolateFunctionError(\u001b[38;5;28mself\u001b[39m):\n\u001b[0;32m    498\u001b[0m   \u001b[38;5;28;01mif\u001b[39;00m cancellation_manager \u001b[38;5;129;01mis\u001b[39;00m \u001b[38;5;28;01mNone\u001b[39;00m:\n\u001b[1;32m--> 499\u001b[0m     outputs \u001b[38;5;241m=\u001b[39m \u001b[43mexecute\u001b[49m\u001b[38;5;241;43m.\u001b[39;49m\u001b[43mexecute\u001b[49m\u001b[43m(\u001b[49m\n\u001b[0;32m    500\u001b[0m \u001b[43m        \u001b[49m\u001b[38;5;28;43mstr\u001b[39;49m\u001b[43m(\u001b[49m\u001b[38;5;28;43mself\u001b[39;49m\u001b[38;5;241;43m.\u001b[39;49m\u001b[43msignature\u001b[49m\u001b[38;5;241;43m.\u001b[39;49m\u001b[43mname\u001b[49m\u001b[43m)\u001b[49m\u001b[43m,\u001b[49m\n\u001b[0;32m    501\u001b[0m \u001b[43m        \u001b[49m\u001b[43mnum_outputs\u001b[49m\u001b[38;5;241;43m=\u001b[39;49m\u001b[38;5;28;43mself\u001b[39;49m\u001b[38;5;241;43m.\u001b[39;49m\u001b[43m_num_outputs\u001b[49m\u001b[43m,\u001b[49m\n\u001b[0;32m    502\u001b[0m \u001b[43m        \u001b[49m\u001b[43minputs\u001b[49m\u001b[38;5;241;43m=\u001b[39;49m\u001b[43margs\u001b[49m\u001b[43m,\u001b[49m\n\u001b[0;32m    503\u001b[0m \u001b[43m        \u001b[49m\u001b[43mattrs\u001b[49m\u001b[38;5;241;43m=\u001b[39;49m\u001b[43mattrs\u001b[49m\u001b[43m,\u001b[49m\n\u001b[0;32m    504\u001b[0m \u001b[43m        \u001b[49m\u001b[43mctx\u001b[49m\u001b[38;5;241;43m=\u001b[39;49m\u001b[43mctx\u001b[49m\u001b[43m)\u001b[49m\n\u001b[0;32m    505\u001b[0m   \u001b[38;5;28;01melse\u001b[39;00m:\n\u001b[0;32m    506\u001b[0m     outputs \u001b[38;5;241m=\u001b[39m execute\u001b[38;5;241m.\u001b[39mexecute_with_cancellation(\n\u001b[0;32m    507\u001b[0m         \u001b[38;5;28mstr\u001b[39m(\u001b[38;5;28mself\u001b[39m\u001b[38;5;241m.\u001b[39msignature\u001b[38;5;241m.\u001b[39mname),\n\u001b[0;32m    508\u001b[0m         num_outputs\u001b[38;5;241m=\u001b[39m\u001b[38;5;28mself\u001b[39m\u001b[38;5;241m.\u001b[39m_num_outputs,\n\u001b[1;32m   (...)\u001b[0m\n\u001b[0;32m    511\u001b[0m         ctx\u001b[38;5;241m=\u001b[39mctx,\n\u001b[0;32m    512\u001b[0m         cancellation_manager\u001b[38;5;241m=\u001b[39mcancellation_manager)\n",
      "File \u001b[1;32m~\\PycharmProjects\\AIP_project\\venv\\lib\\site-packages\\tensorflow\\python\\eager\\execute.py:54\u001b[0m, in \u001b[0;36mquick_execute\u001b[1;34m(op_name, num_outputs, inputs, attrs, ctx, name)\u001b[0m\n\u001b[0;32m     52\u001b[0m \u001b[38;5;28;01mtry\u001b[39;00m:\n\u001b[0;32m     53\u001b[0m   ctx\u001b[38;5;241m.\u001b[39mensure_initialized()\n\u001b[1;32m---> 54\u001b[0m   tensors \u001b[38;5;241m=\u001b[39m \u001b[43mpywrap_tfe\u001b[49m\u001b[38;5;241;43m.\u001b[39;49m\u001b[43mTFE_Py_Execute\u001b[49m\u001b[43m(\u001b[49m\u001b[43mctx\u001b[49m\u001b[38;5;241;43m.\u001b[39;49m\u001b[43m_handle\u001b[49m\u001b[43m,\u001b[49m\u001b[43m \u001b[49m\u001b[43mdevice_name\u001b[49m\u001b[43m,\u001b[49m\u001b[43m \u001b[49m\u001b[43mop_name\u001b[49m\u001b[43m,\u001b[49m\n\u001b[0;32m     55\u001b[0m \u001b[43m                                      \u001b[49m\u001b[43minputs\u001b[49m\u001b[43m,\u001b[49m\u001b[43m \u001b[49m\u001b[43mattrs\u001b[49m\u001b[43m,\u001b[49m\u001b[43m \u001b[49m\u001b[43mnum_outputs\u001b[49m\u001b[43m)\u001b[49m\n\u001b[0;32m     56\u001b[0m \u001b[38;5;28;01mexcept\u001b[39;00m core\u001b[38;5;241m.\u001b[39m_NotOkStatusException \u001b[38;5;28;01mas\u001b[39;00m e:\n\u001b[0;32m     57\u001b[0m   \u001b[38;5;28;01mif\u001b[39;00m name \u001b[38;5;129;01mis\u001b[39;00m \u001b[38;5;129;01mnot\u001b[39;00m \u001b[38;5;28;01mNone\u001b[39;00m:\n",
      "\u001b[1;31mKeyboardInterrupt\u001b[0m: "
     ]
    }
   ],
   "source": [
    "model.fit(X_train, y_train, epochs=2000, callbacks=[tb_callback])"
   ]
  },
  {
   "cell_type": "code",
   "execution_count": 60,
   "id": "750e85be",
   "metadata": {},
   "outputs": [
    {
     "name": "stdout",
     "output_type": "stream",
     "text": [
      "Model: \"sequential\"\n",
      "_________________________________________________________________\n",
      " Layer (type)                Output Shape              Param #   \n",
      "=================================================================\n",
      " lstm (LSTM)                 (None, 30, 64)            442112    \n",
      "                                                                 \n",
      " dropout (Dropout)           (None, 30, 64)            0         \n",
      "                                                                 \n",
      " lstm_1 (LSTM)               (None, 30, 128)           98816     \n",
      "                                                                 \n",
      " dropout_1 (Dropout)         (None, 30, 128)           0         \n",
      "                                                                 \n",
      " lstm_2 (LSTM)               (None, 64)                49408     \n",
      "                                                                 \n",
      " dropout_2 (Dropout)         (None, 64)                0         \n",
      "                                                                 \n",
      " dense (Dense)               (None, 64)                4160      \n",
      "                                                                 \n",
      " dense_1 (Dense)             (None, 32)                2080      \n",
      "                                                                 \n",
      " dense_2 (Dense)             (None, 15)                495       \n",
      "                                                                 \n",
      "=================================================================\n",
      "Total params: 597,071\n",
      "Trainable params: 597,071\n",
      "Non-trainable params: 0\n",
      "_________________________________________________________________\n"
     ]
    }
   ],
   "source": [
    "model.summary()"
   ]
  },
  {
   "cell_type": "code",
   "execution_count": 21,
   "id": "08869c5f",
   "metadata": {},
   "outputs": [],
   "source": [
    "#tensorboard --logdir=."
   ]
  },
  {
   "cell_type": "code",
   "execution_count": 61,
   "id": "bbce143e",
   "metadata": {},
   "outputs": [
    {
     "name": "stdout",
     "output_type": "stream",
     "text": [
      "3/3 [==============================] - 0s 40ms/step\n"
     ]
    }
   ],
   "source": [
    "res = model.predict(X_test)"
   ]
  },
  {
   "cell_type": "code",
   "execution_count": 38,
   "id": "2ae7577f",
   "metadata": {},
   "outputs": [
    {
     "data": {
      "text/plain": [
       "(15,)"
      ]
     },
     "execution_count": 38,
     "metadata": {},
     "output_type": "execute_result"
    }
   ],
   "source": [
    "res[0].shape"
   ]
  },
  {
   "cell_type": "code",
   "execution_count": 62,
   "id": "93f3ff5c",
   "metadata": {},
   "outputs": [
    {
     "data": {
      "text/plain": [
       "'Hello_R'"
      ]
     },
     "execution_count": 62,
     "metadata": {},
     "output_type": "execute_result"
    }
   ],
   "source": [
    "actions[np.argmax(res[6])]"
   ]
  },
  {
   "cell_type": "code",
   "execution_count": 63,
   "id": "8733b573",
   "metadata": {},
   "outputs": [
    {
     "data": {
      "text/plain": [
       "'Hello_R'"
      ]
     },
     "execution_count": 63,
     "metadata": {},
     "output_type": "execute_result"
    }
   ],
   "source": [
    "actions[np.argmax(y_test[6])]"
   ]
  },
  {
   "cell_type": "markdown",
   "id": "2e7768f2",
   "metadata": {},
   "source": [
    "# 9 Save Weights"
   ]
  },
  {
   "cell_type": "code",
   "execution_count": 125,
   "id": "9ca40d44",
   "metadata": {},
   "outputs": [],
   "source": [
    "model.save('finalModel60FPSfinal14.h5')"
   ]
  },
  {
   "cell_type": "code",
   "execution_count": 126,
   "id": "65f32ec5",
   "metadata": {},
   "outputs": [],
   "source": [
    "del model"
   ]
  },
  {
   "cell_type": "code",
   "execution_count": null,
   "id": "8dd91b99",
   "metadata": {},
   "outputs": [],
   "source": [
    "model.load_weights('finalModel60fpsfinal11.h5')"
   ]
  },
  {
   "cell_type": "markdown",
   "id": "86a6cbb1",
   "metadata": {},
   "source": [
    "# 11 Test in real time"
   ]
  },
  {
   "cell_type": "code",
   "execution_count": 49,
   "id": "64c8165b",
   "metadata": {},
   "outputs": [],
   "source": [
    "colors = [(0, 215, 255), (192,192,192), (50,127,205), (142, 241, 53), (123, 123 ,133), (214, 122, 141),(214, 122, 141),(214, 122, 141),\n",
    "          (214, 122, 141),(214, 122, 141),(214, 122, 141),(214, 122, 141),(214, 122, 141),(214, 122, 141),(214, 122, 141),(214, 122, 141)]\n",
    "def prob_viz(res, actions, input_frame, colors):\n",
    "    output_frame = input_frame.copy()\n",
    "    count = 0\n",
    "    res_arr = np.array(res)\n",
    "    idx = np.argsort(res_arr) \n",
    "    idx = idx[::-1]\n",
    "    res_arr = res_arr[idx]\n",
    "    new_actions = actions[idx]\n",
    "\n",
    "    cv2.putText(output_frame, 'Action', (0, 65), cv2.FONT_HERSHEY_SIMPLEX, 0.7, (255,255,255), 2, cv2.LINE_AA)\n",
    "    cv2.putText(output_frame, 'Percentage', (100, 65), cv2.FONT_HERSHEY_SIMPLEX, 0.7, (255,255,255), 2, cv2.LINE_AA)\n",
    "        \n",
    "    for num, prob in enumerate(sorted(res, reverse= True)):\n",
    "        count += 1\n",
    "        cv2.rectangle(output_frame, (0,70+num*20), (int(prob*100), 90+num*20), colors[num], -1)\n",
    "        cv2.putText(output_frame, new_actions[num].split('_')[0], (0, 85+num*20), cv2.FONT_HERSHEY_SIMPLEX, 0.7, (255,255,255), 2, cv2.LINE_AA)\n",
    "        cv2.putText(output_frame, str(\"{:.2f}\".format(prob*100))+' %', (110, 85+num*20), cv2.FONT_HERSHEY_SIMPLEX, 0.7, (255,255,255), 2, cv2.LINE_AA)\n",
    "        if count == 3:\n",
    "            break\n",
    "       \n",
    "    return output_frame\n"
   ]
  },
  {
   "cell_type": "code",
   "execution_count": 71,
   "id": "cc189365",
   "metadata": {},
   "outputs": [
    {
     "name": "stdout",
     "output_type": "stream",
     "text": [
      "<class 'mediapipe.python.solution_base.SolutionOutputs'>\n",
      "<class 'mediapipe.python.solution_base.SolutionOutputs'>\n",
      "<class 'mediapipe.python.solution_base.SolutionOutputs'>\n",
      "<class 'mediapipe.python.solution_base.SolutionOutputs'>\n",
      "<class 'mediapipe.python.solution_base.SolutionOutputs'>\n",
      "<class 'mediapipe.python.solution_base.SolutionOutputs'>\n",
      "<class 'mediapipe.python.solution_base.SolutionOutputs'>\n",
      "<class 'mediapipe.python.solution_base.SolutionOutputs'>\n",
      "<class 'mediapipe.python.solution_base.SolutionOutputs'>\n",
      "<class 'mediapipe.python.solution_base.SolutionOutputs'>\n",
      "<class 'mediapipe.python.solution_base.SolutionOutputs'>\n",
      "<class 'mediapipe.python.solution_base.SolutionOutputs'>\n",
      "<class 'mediapipe.python.solution_base.SolutionOutputs'>\n",
      "<class 'mediapipe.python.solution_base.SolutionOutputs'>\n",
      "<class 'mediapipe.python.solution_base.SolutionOutputs'>\n",
      "<class 'mediapipe.python.solution_base.SolutionOutputs'>\n",
      "<class 'mediapipe.python.solution_base.SolutionOutputs'>\n",
      "<class 'mediapipe.python.solution_base.SolutionOutputs'>\n",
      "<class 'mediapipe.python.solution_base.SolutionOutputs'>\n",
      "<class 'mediapipe.python.solution_base.SolutionOutputs'>\n",
      "<class 'mediapipe.python.solution_base.SolutionOutputs'>\n",
      "<class 'mediapipe.python.solution_base.SolutionOutputs'>\n",
      "<class 'mediapipe.python.solution_base.SolutionOutputs'>\n",
      "<class 'mediapipe.python.solution_base.SolutionOutputs'>\n",
      "<class 'mediapipe.python.solution_base.SolutionOutputs'>\n",
      "<class 'mediapipe.python.solution_base.SolutionOutputs'>\n",
      "<class 'mediapipe.python.solution_base.SolutionOutputs'>\n",
      "<class 'mediapipe.python.solution_base.SolutionOutputs'>\n",
      "<class 'mediapipe.python.solution_base.SolutionOutputs'>\n",
      "<class 'mediapipe.python.solution_base.SolutionOutputs'>\n",
      "1/1 [==============================] - 0s 25ms/step\n",
      "Wait_\n",
      "<class 'mediapipe.python.solution_base.SolutionOutputs'>\n",
      "1/1 [==============================] - 0s 21ms/step\n",
      "Wait_\n",
      "<class 'mediapipe.python.solution_base.SolutionOutputs'>\n",
      "1/1 [==============================] - 0s 22ms/step\n",
      "Wait_\n",
      "<class 'mediapipe.python.solution_base.SolutionOutputs'>\n",
      "1/1 [==============================] - 0s 22ms/step\n",
      "Wait_\n",
      "<class 'mediapipe.python.solution_base.SolutionOutputs'>\n",
      "1/1 [==============================] - 0s 20ms/step\n",
      "Wait_\n",
      "<class 'mediapipe.python.solution_base.SolutionOutputs'>\n",
      "1/1 [==============================] - 0s 20ms/step\n",
      "Wait_\n",
      "<class 'mediapipe.python.solution_base.SolutionOutputs'>\n",
      "1/1 [==============================] - 0s 20ms/step\n",
      "Wait_\n",
      "<class 'mediapipe.python.solution_base.SolutionOutputs'>\n",
      "1/1 [==============================] - 0s 22ms/step\n",
      "Wait_\n",
      "<class 'mediapipe.python.solution_base.SolutionOutputs'>\n",
      "1/1 [==============================] - 0s 19ms/step\n",
      "Wait_\n",
      "<class 'mediapipe.python.solution_base.SolutionOutputs'>\n",
      "1/1 [==============================] - 0s 21ms/step\n",
      "Wait_\n",
      "<class 'mediapipe.python.solution_base.SolutionOutputs'>\n",
      "1/1 [==============================] - 0s 25ms/step\n",
      "Wait_\n",
      "<class 'mediapipe.python.solution_base.SolutionOutputs'>\n",
      "1/1 [==============================] - 0s 22ms/step\n",
      "Wait_\n",
      "<class 'mediapipe.python.solution_base.SolutionOutputs'>\n",
      "1/1 [==============================] - 0s 23ms/step\n",
      "Wait_\n",
      "<class 'mediapipe.python.solution_base.SolutionOutputs'>\n",
      "1/1 [==============================] - 0s 28ms/step\n",
      "Wait_\n",
      "<class 'mediapipe.python.solution_base.SolutionOutputs'>\n",
      "1/1 [==============================] - 0s 23ms/step\n",
      "Wait_\n",
      "<class 'mediapipe.python.solution_base.SolutionOutputs'>\n",
      "1/1 [==============================] - 0s 20ms/step\n",
      "Wait_\n",
      "<class 'mediapipe.python.solution_base.SolutionOutputs'>\n",
      "1/1 [==============================] - 0s 18ms/step\n",
      "Wait_\n",
      "<class 'mediapipe.python.solution_base.SolutionOutputs'>\n",
      "1/1 [==============================] - 0s 21ms/step\n",
      "Wait_\n",
      "<class 'mediapipe.python.solution_base.SolutionOutputs'>\n",
      "1/1 [==============================] - 0s 22ms/step\n",
      "Wait_\n",
      "<class 'mediapipe.python.solution_base.SolutionOutputs'>\n",
      "1/1 [==============================] - 0s 27ms/step\n",
      "Wait_\n",
      "<class 'mediapipe.python.solution_base.SolutionOutputs'>\n",
      "1/1 [==============================] - 0s 23ms/step\n",
      "Wait_\n",
      "<class 'mediapipe.python.solution_base.SolutionOutputs'>\n",
      "1/1 [==============================] - 0s 23ms/step\n",
      "Wait_\n",
      "<class 'mediapipe.python.solution_base.SolutionOutputs'>\n",
      "1/1 [==============================] - 0s 24ms/step\n",
      "Wait_\n",
      "<class 'mediapipe.python.solution_base.SolutionOutputs'>\n",
      "1/1 [==============================] - 0s 22ms/step\n",
      "Wait_\n",
      "<class 'mediapipe.python.solution_base.SolutionOutputs'>\n",
      "1/1 [==============================] - 0s 25ms/step\n",
      "Wait_\n",
      "<class 'mediapipe.python.solution_base.SolutionOutputs'>\n",
      "1/1 [==============================] - 0s 23ms/step\n",
      "Wait_\n",
      "<class 'mediapipe.python.solution_base.SolutionOutputs'>\n",
      "1/1 [==============================] - 0s 25ms/step\n",
      "Wait_\n",
      "<class 'mediapipe.python.solution_base.SolutionOutputs'>\n",
      "1/1 [==============================] - 0s 22ms/step\n",
      "Wait_\n",
      "<class 'mediapipe.python.solution_base.SolutionOutputs'>\n",
      "1/1 [==============================] - 0s 23ms/step\n",
      "Wait_\n",
      "<class 'mediapipe.python.solution_base.SolutionOutputs'>\n",
      "1/1 [==============================] - 0s 24ms/step\n",
      "Wait_\n",
      "<class 'mediapipe.python.solution_base.SolutionOutputs'>\n",
      "1/1 [==============================] - 0s 27ms/step\n",
      "Wait_\n",
      "<class 'mediapipe.python.solution_base.SolutionOutputs'>\n",
      "1/1 [==============================] - 0s 21ms/step\n",
      "Wait_\n",
      "<class 'mediapipe.python.solution_base.SolutionOutputs'>\n",
      "1/1 [==============================] - 0s 22ms/step\n",
      "Wait_\n",
      "<class 'mediapipe.python.solution_base.SolutionOutputs'>\n",
      "1/1 [==============================] - 0s 23ms/step\n",
      "Wait_\n",
      "<class 'mediapipe.python.solution_base.SolutionOutputs'>\n",
      "1/1 [==============================] - 0s 25ms/step\n",
      "Wait_\n",
      "<class 'mediapipe.python.solution_base.SolutionOutputs'>\n",
      "1/1 [==============================] - 0s 24ms/step\n",
      "Wait_\n",
      "<class 'mediapipe.python.solution_base.SolutionOutputs'>\n",
      "1/1 [==============================] - 0s 28ms/step\n",
      "Wait_\n",
      "<class 'mediapipe.python.solution_base.SolutionOutputs'>\n",
      "1/1 [==============================] - 0s 21ms/step\n",
      "Wait_\n",
      "<class 'mediapipe.python.solution_base.SolutionOutputs'>\n",
      "1/1 [==============================] - 0s 25ms/step\n",
      "Wait_\n",
      "<class 'mediapipe.python.solution_base.SolutionOutputs'>\n",
      "1/1 [==============================] - 0s 21ms/step\n",
      "Wait_\n",
      "<class 'mediapipe.python.solution_base.SolutionOutputs'>\n",
      "1/1 [==============================] - 0s 22ms/step\n",
      "Wait_\n",
      "<class 'mediapipe.python.solution_base.SolutionOutputs'>\n",
      "1/1 [==============================] - 0s 23ms/step\n",
      "Wait_\n",
      "<class 'mediapipe.python.solution_base.SolutionOutputs'>\n",
      "1/1 [==============================] - 0s 24ms/step\n",
      "Wait_\n",
      "<class 'mediapipe.python.solution_base.SolutionOutputs'>\n",
      "1/1 [==============================] - 0s 24ms/step\n",
      "Wait_\n",
      "<class 'mediapipe.python.solution_base.SolutionOutputs'>\n",
      "1/1 [==============================] - 0s 24ms/step\n",
      "Wait_\n",
      "<class 'mediapipe.python.solution_base.SolutionOutputs'>\n",
      "1/1 [==============================] - 0s 24ms/step\n",
      "Wait_\n",
      "<class 'mediapipe.python.solution_base.SolutionOutputs'>\n",
      "1/1 [==============================] - 0s 26ms/step\n",
      "Wait_\n",
      "<class 'mediapipe.python.solution_base.SolutionOutputs'>\n",
      "1/1 [==============================] - 0s 24ms/step\n",
      "Wait_\n",
      "<class 'mediapipe.python.solution_base.SolutionOutputs'>\n",
      "1/1 [==============================] - 0s 26ms/step\n",
      "Wait_\n",
      "<class 'mediapipe.python.solution_base.SolutionOutputs'>\n",
      "1/1 [==============================] - 0s 25ms/step\n",
      "Wait_\n",
      "<class 'mediapipe.python.solution_base.SolutionOutputs'>\n",
      "1/1 [==============================] - 0s 23ms/step\n",
      "Wait_\n",
      "<class 'mediapipe.python.solution_base.SolutionOutputs'>\n",
      "1/1 [==============================] - 0s 21ms/step\n",
      "Wait_\n",
      "<class 'mediapipe.python.solution_base.SolutionOutputs'>\n",
      "1/1 [==============================] - 0s 20ms/step\n",
      "Wait_\n",
      "<class 'mediapipe.python.solution_base.SolutionOutputs'>\n",
      "1/1 [==============================] - 0s 25ms/step\n",
      "Wait_\n",
      "<class 'mediapipe.python.solution_base.SolutionOutputs'>\n",
      "1/1 [==============================] - 0s 27ms/step\n",
      "Wait_\n",
      "<class 'mediapipe.python.solution_base.SolutionOutputs'>\n",
      "1/1 [==============================] - 0s 24ms/step\n",
      "Wait_\n",
      "<class 'mediapipe.python.solution_base.SolutionOutputs'>\n"
     ]
    },
    {
     "name": "stdout",
     "output_type": "stream",
     "text": [
      "1/1 [==============================] - 0s 25ms/step\n",
      "Wait_\n",
      "<class 'mediapipe.python.solution_base.SolutionOutputs'>\n",
      "1/1 [==============================] - 0s 25ms/step\n",
      "Wait_\n",
      "<class 'mediapipe.python.solution_base.SolutionOutputs'>\n",
      "1/1 [==============================] - 0s 25ms/step\n",
      "Wait_\n",
      "<class 'mediapipe.python.solution_base.SolutionOutputs'>\n",
      "1/1 [==============================] - 0s 23ms/step\n",
      "Wait_\n",
      "<class 'mediapipe.python.solution_base.SolutionOutputs'>\n",
      "1/1 [==============================] - 0s 24ms/step\n",
      "Wait_\n",
      "<class 'mediapipe.python.solution_base.SolutionOutputs'>\n",
      "1/1 [==============================] - 0s 23ms/step\n",
      "Wait_\n",
      "<class 'mediapipe.python.solution_base.SolutionOutputs'>\n",
      "1/1 [==============================] - 0s 25ms/step\n",
      "Wait_\n",
      "<class 'mediapipe.python.solution_base.SolutionOutputs'>\n",
      "1/1 [==============================] - 0s 27ms/step\n",
      "Wait_\n",
      "<class 'mediapipe.python.solution_base.SolutionOutputs'>\n",
      "1/1 [==============================] - 0s 24ms/step\n",
      "Wait_\n",
      "<class 'mediapipe.python.solution_base.SolutionOutputs'>\n",
      "1/1 [==============================] - 0s 23ms/step\n",
      "Wait_\n",
      "<class 'mediapipe.python.solution_base.SolutionOutputs'>\n",
      "1/1 [==============================] - 0s 24ms/step\n",
      "Wait_\n",
      "<class 'mediapipe.python.solution_base.SolutionOutputs'>\n",
      "1/1 [==============================] - 0s 25ms/step\n",
      "Wait_\n",
      "<class 'mediapipe.python.solution_base.SolutionOutputs'>\n",
      "1/1 [==============================] - 0s 22ms/step\n",
      "Wait_\n",
      "<class 'mediapipe.python.solution_base.SolutionOutputs'>\n",
      "1/1 [==============================] - 0s 24ms/step\n",
      "Wait_\n",
      "<class 'mediapipe.python.solution_base.SolutionOutputs'>\n",
      "1/1 [==============================] - 0s 21ms/step\n",
      "Wait_\n",
      "<class 'mediapipe.python.solution_base.SolutionOutputs'>\n",
      "1/1 [==============================] - 0s 22ms/step\n",
      "Wait_\n",
      "<class 'mediapipe.python.solution_base.SolutionOutputs'>\n",
      "1/1 [==============================] - 0s 21ms/step\n",
      "Wait_\n",
      "<class 'mediapipe.python.solution_base.SolutionOutputs'>\n",
      "1/1 [==============================] - 0s 25ms/step\n",
      "Wait_\n",
      "<class 'mediapipe.python.solution_base.SolutionOutputs'>\n",
      "1/1 [==============================] - 0s 24ms/step\n",
      "Wait_\n",
      "<class 'mediapipe.python.solution_base.SolutionOutputs'>\n",
      "1/1 [==============================] - 0s 23ms/step\n",
      "Wait_\n",
      "<class 'mediapipe.python.solution_base.SolutionOutputs'>\n",
      "1/1 [==============================] - 0s 23ms/step\n",
      "Wait_\n",
      "<class 'mediapipe.python.solution_base.SolutionOutputs'>\n",
      "1/1 [==============================] - 0s 23ms/step\n",
      "Wait_\n",
      "<class 'mediapipe.python.solution_base.SolutionOutputs'>\n",
      "1/1 [==============================] - 0s 26ms/step\n",
      "Wait_\n",
      "<class 'mediapipe.python.solution_base.SolutionOutputs'>\n",
      "1/1 [==============================] - 0s 23ms/step\n",
      "Wait_\n",
      "<class 'mediapipe.python.solution_base.SolutionOutputs'>\n",
      "1/1 [==============================] - 0s 27ms/step\n",
      "Wait_\n"
     ]
    }
   ],
   "source": [
    "# 1. New detection variables\n",
    "sequence = []\n",
    "sentence = ['']\n",
    "threshold = 0.75\n",
    "predictions = []\n",
    "no_of_frame=0\n",
    "cap = cv2.VideoCapture(0)\n",
    "# Set mediapipe model \n",
    "start_time = time.time()\n",
    "with mp_holistic.Holistic(min_detection_confidence=0.5, min_tracking_confidence=0.5) as holistic:\n",
    "    while cap.isOpened():\n",
    "        \n",
    "        # Read feed\n",
    "        ret, frame = cap.read()\n",
    "        no_of_frame += 1\n",
    "        # Make detections\n",
    "        image, results = mediapipe_detection(frame, holistic)\n",
    "        print(results)\n",
    "        \n",
    "        # Draw landmarks\n",
    "        draw_styled_landmarks(image, results)\n",
    "        \n",
    "        # 2. Prediction logic\n",
    "        keypoints = extract_keypoints(results)\n",
    "#         sequence.insert(0,keypoints)\n",
    "#         sequence = sequence[:30]\n",
    "        sequence.append(keypoints)\n",
    "        sequence = sequence[-30:]\n",
    "        \n",
    "        if len(sequence) == 30:\n",
    "            res = model.predict(np.expand_dims(sequence, axis=0))[0]\n",
    "            print(actions[np.argmax(res)])\n",
    "            predictions.append(np.argmax(res))\n",
    "        \n",
    "        #3. Viz logic\n",
    "            if np.unique(predictions[-15:])[0]==np.argmax(res): \n",
    "                if res[np.argmax(res)] > threshold: \n",
    "                    if actions[np.argmax(res)].split('_')[0] != sentence[-1]: \n",
    "                        if actions[np.argmax(res)].split('_')[0] == 'Wait' and sentence[-1]!='':\n",
    "                            sentence.append('')\n",
    "                        elif actions[np.argmax(res)].split('_')[0] != 'Wait' and sentence[-1]=='':\n",
    "                            sentence.append(actions[np.argmax(res)].split('_')[0])\n",
    "\n",
    "            if len(sentence) > 9: \n",
    "                sentence = ['']\n",
    "\n",
    "            # Viz probabilities\n",
    "            image = prob_viz(res, actions, image, colors)\n",
    "          \n",
    "        #cv2.putText(image, \"{}\".format(no_of_frame), (600, 70), cv2.FONT_HERSHEY_SIMPLEX, 0.5, (0, 0, 255), 1, cv2.LINE_AA)\n",
    "        cv2.rectangle(image, (0,0), (640, 40), (129, 196, 26), -1)\n",
    "        cv2.putText(image, ' '.join(sentence), (3,30), \n",
    "                       cv2.FONT_HERSHEY_SIMPLEX, 1, (255, 255, 255), 2, cv2.LINE_AA)\n",
    "\n",
    "        # Show to screen\n",
    "        image = cv2.resize(image,(960,720))\n",
    "        cv2.imshow('OpenCV Feed', image)\n",
    "        \n",
    "        # Break gracefully\n",
    "        \n",
    "        if cv2.waitKey(10) & 0xFF == ord('q'):\n",
    "            break\n",
    "    cap.release()\n",
    "    cv2.destroyAllWindows()\n",
    "end_time = time.time()\n"
   ]
  },
  {
   "cell_type": "markdown",
   "id": "0b5e5ea0",
   "metadata": {},
   "source": [
    "# 10. Evaluation using Confusion Matrix and Accuracy"
   ]
  },
  {
   "cell_type": "code",
   "execution_count": 67,
   "id": "8568fe6c",
   "metadata": {},
   "outputs": [],
   "source": [
    "from sklearn.metrics import multilabel_confusion_matrix, accuracy_score"
   ]
  },
  {
   "cell_type": "code",
   "execution_count": 64,
   "id": "4923e9a9",
   "metadata": {},
   "outputs": [
    {
     "name": "stdout",
     "output_type": "stream",
     "text": [
      "3/3 [==============================] - 0s 40ms/step\n"
     ]
    }
   ],
   "source": [
    "yhat = model.predict(X_test)"
   ]
  },
  {
   "cell_type": "code",
   "execution_count": 65,
   "id": "980ddbac",
   "metadata": {},
   "outputs": [],
   "source": [
    "ytrue = np.argmax(y_test, axis=1).tolist()\n",
    "yhat = np.argmax(yhat, axis=1).tolist()"
   ]
  },
  {
   "cell_type": "code",
   "execution_count": 68,
   "id": "741352cd",
   "metadata": {},
   "outputs": [
    {
     "data": {
      "text/plain": [
       "array([[[81,  0],\n",
       "        [ 0,  9]],\n",
       "\n",
       "       [[81,  0],\n",
       "        [ 0,  9]],\n",
       "\n",
       "       [[78,  0],\n",
       "        [ 0, 12]],\n",
       "\n",
       "       [[85,  0],\n",
       "        [ 0,  5]],\n",
       "\n",
       "       [[82,  0],\n",
       "        [ 0,  8]],\n",
       "\n",
       "       [[87,  0],\n",
       "        [ 0,  3]],\n",
       "\n",
       "       [[82,  0],\n",
       "        [ 0,  8]],\n",
       "\n",
       "       [[87,  0],\n",
       "        [ 0,  3]],\n",
       "\n",
       "       [[84,  0],\n",
       "        [ 0,  6]],\n",
       "\n",
       "       [[87,  0],\n",
       "        [ 0,  3]],\n",
       "\n",
       "       [[85,  0],\n",
       "        [ 0,  5]],\n",
       "\n",
       "       [[87,  0],\n",
       "        [ 0,  3]],\n",
       "\n",
       "       [[84,  0],\n",
       "        [ 0,  6]],\n",
       "\n",
       "       [[84,  0],\n",
       "        [ 0,  6]],\n",
       "\n",
       "       [[86,  0],\n",
       "        [ 0,  4]]], dtype=int64)"
      ]
     },
     "execution_count": 68,
     "metadata": {},
     "output_type": "execute_result"
    }
   ],
   "source": [
    "multilabel_confusion_matrix(ytrue, yhat)"
   ]
  },
  {
   "cell_type": "code",
   "execution_count": 69,
   "id": "a4e6e718",
   "metadata": {},
   "outputs": [
    {
     "data": {
      "text/plain": [
       "1.0"
      ]
     },
     "execution_count": 69,
     "metadata": {},
     "output_type": "execute_result"
    }
   ],
   "source": [
    "accuracy_score(ytrue, yhat)"
   ]
  },
  {
   "cell_type": "code",
   "execution_count": null,
   "id": "42b6e4d9",
   "metadata": {},
   "outputs": [],
   "source": []
  }
 ],
 "metadata": {
  "kernelspec": {
   "display_name": "Python 3 (ipykernel)",
   "language": "python",
   "name": "python3"
  },
  "language_info": {
   "codemirror_mode": {
    "name": "ipython",
    "version": 3
   },
   "file_extension": ".py",
   "mimetype": "text/x-python",
   "name": "python",
   "nbconvert_exporter": "python",
   "pygments_lexer": "ipython3",
   "version": "3.10.4"
  }
 },
 "nbformat": 4,
 "nbformat_minor": 5
}
